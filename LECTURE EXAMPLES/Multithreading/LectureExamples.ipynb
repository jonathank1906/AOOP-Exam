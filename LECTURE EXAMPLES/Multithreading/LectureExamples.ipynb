{
 "cells": [
  {
   "cell_type": "markdown",
   "metadata": {},
   "source": [
    "### Example 1 - Race Conditions\n",
    "\n",
    "Unsafe Counter:"
   ]
  },
  {
   "cell_type": "code",
   "execution_count": null,
   "metadata": {
    "polyglot_notebook": {
     "kernelName": "csharp"
    },
    "vscode": {
     "languageId": "polyglot-notebook"
    }
   },
   "outputs": [
    {
     "name": "stdout",
     "output_type": "stream",
     "text": [
      "Final Counter (Unsafe): 7993\r\n"
     ]
    }
   ],
   "source": [
    "using System.Threading.Tasks;\n",
    "\n",
    "int sharedCounter = 0;\n",
    "\n",
    "// Simulate 10 tasks incrementing the counter 1000 times each\n",
    "List<Task> tasks = new List<Task>();\n",
    "for (int i = 0; i < 10; i++)\n",
    "{\n",
    "    tasks.Add(Task.Run(() => {\n",
    "        for (int j = 0; j < 1000; j++)\n",
    "        {\n",
    "            // --- Potential Race Condition ---\n",
    "            // 1. Read current value (e.g., 5)\n",
    "            // 2. (Thread switch occurs) Another thread reads 5, increments to 6, writes 6.\n",
    "            // 3. (Original thread resumes) Increments its old value (5) to 6.\n",
    "            // 4. Writes 6 (overwriting the other thread's increment!)\n",
    "            sharedCounter++;\n",
    "            // --- End Race Condition ---\n",
    "        }\n",
    "    }));\n",
    "}\n",
    "\n",
    "await Task.WhenAll(tasks);\n",
    "\n",
    "// Expected: 10 * 1000 = 10,000\n",
    "// Actual: Likely *less* than 10,000 due to lost increments!\n",
    "Console.WriteLine($\"Final Counter (Unsafe): {sharedCounter}\");\n"
   ]
  },
  {
   "cell_type": "markdown",
   "metadata": {},
   "source": [
    "Safe Version using Locks:"
   ]
  },
  {
   "cell_type": "code",
   "execution_count": 2,
   "metadata": {
    "polyglot_notebook": {
     "kernelName": "csharp"
    },
    "vscode": {
     "languageId": "polyglot-notebook"
    }
   },
   "outputs": [
    {
     "name": "stdout",
     "output_type": "stream",
     "text": [
      "Final Counter (Safe with lock): 10000\r\n"
     ]
    }
   ],
   "source": [
    "using System.Threading.Tasks;\n",
    "\n",
    "int sharedCounter = 0;\n",
    "// Use a dedicated object for locking\n",
    "private readonly object _counterLock = new object();\n",
    "\n",
    "List<Task> tasks = new List<Task>();\n",
    "for (int i = 0; i < 10; i++)\n",
    "{\n",
    "    tasks.Add(Task.Run(() => {\n",
    "        for (int j = 0; j < 1000; j++)\n",
    "        {\n",
    "            // --- Critical Section Protected by Lock ---\n",
    "            lock (_counterLock)\n",
    "            {\n",
    "                // Only one thread can be inside this block at a time\n",
    "                sharedCounter++;\n",
    "            }\n",
    "        }\n",
    "    }));\n",
    "}\n",
    "\n",
    "await Task.WhenAll(tasks);\n",
    "\n",
    "// Expected: 10,000\n",
    "// Actual: 10,000 (Correct!)\n",
    "Console.WriteLine($\"Final Counter (Safe with lock): {sharedCounter}\");"
   ]
  },
  {
   "cell_type": "markdown",
   "metadata": {},
   "source": [
    "### Example 2 - Deadlocks"
   ]
  },
  {
   "cell_type": "code",
   "execution_count": 5,
   "metadata": {
    "polyglot_notebook": {
     "kernelName": "csharp"
    },
    "vscode": {
     "languageId": "polyglot-notebook"
    }
   },
   "outputs": [
    {
     "name": "stdout",
     "output_type": "stream",
     "text": [
      "Task BA: Locking B...\n",
      "Task AB: Locking A...\n",
      "Task AB: Locked A.\n",
      "Task BA: Locked B.\n",
      "Task BA: Trying to lock A...\n",
      "Task AB: Trying to lock B...\n"
     ]
    },
    {
     "ename": "Error",
     "evalue": "Command cancelled.",
     "output_type": "error",
     "traceback": [
      "Command cancelled."
     ]
    }
   ],
   "source": [
    "using System;\n",
    "using System.Threading;\n",
    "using System.Threading.Tasks;\n",
    "\n",
    "// Assume _lockA and _lockB are defined elsewhere:\n",
    "private static readonly object _lockA = new object();\n",
    "private static readonly object _lockB = new object();\n",
    "\n",
    "// Task 1: Acquires A then B\n",
    "static void ProcessAB()\n",
    "{\n",
    "    Console.WriteLine(\"Task AB: Locking A...\");\n",
    "    lock (_lockA)\n",
    "    {\n",
    "        Console.WriteLine(\"Task AB: Locked A.\");\n",
    "        Thread.Sleep(100); // Simulate work holding A\n",
    "\n",
    "        Console.WriteLine(\"Task AB: Trying to lock B...\");\n",
    "        lock (_lockB) // <<< Waits here if ProcessBA holds Lock B\n",
    "        {\n",
    "            Console.WriteLine(\"Task AB: Locked B.\");\n",
    "            // ... work ...\n",
    "        }\n",
    "        Console.WriteLine(\"Task AB: Released B.\");\n",
    "    }\n",
    "    Console.WriteLine(\"Task AB: Released A.\");\n",
    "}\n",
    "\n",
    "// Task 2: Acquires B then A (Inconsistent Order!)\n",
    "static void ProcessBA()\n",
    "{\n",
    "    Console.WriteLine(\"Task BA: Locking B...\");\n",
    "    lock (_lockB)\n",
    "    {\n",
    "        Console.WriteLine(\"Task BA: Locked B.\");\n",
    "        Thread.Sleep(100); // Simulate work holding B\n",
    "\n",
    "        Console.WriteLine(\"Task BA: Trying to lock A...\");\n",
    "        lock (_lockA) // <<< Waits here if ProcessAB holds Lock A - DEADLOCK!\n",
    "        {\n",
    "            Console.WriteLine(\"Task BA: Locked A.\");\n",
    "            // ... work ...\n",
    "        }\n",
    "        Console.WriteLine(\"Task BA: Released A.\");\n",
    "    }\n",
    "    Console.WriteLine(\"Task BA: Released B.\");\n",
    "}\n",
    "\n",
    "// To demonstrate deadlock potential:\n",
    "Task task1 = Task.Run(ProcessAB);\n",
    "Task task2 = Task.Run(ProcessBA);\n",
    "await Task.WhenAll(task1, task2); // Likely hangs"
   ]
  },
  {
   "cell_type": "markdown",
   "metadata": {},
   "source": [
    "### Example 3 - Locking Lists"
   ]
  },
  {
   "cell_type": "markdown",
   "metadata": {},
   "source": [
    "Unsafe Variation"
   ]
  },
  {
   "cell_type": "code",
   "execution_count": 22,
   "metadata": {
    "polyglot_notebook": {
     "kernelName": "csharp"
    },
    "vscode": {
     "languageId": "polyglot-notebook"
    }
   },
   "outputs": [
    {
     "name": "stdout",
     "output_type": "stream",
     "text": [
      "Reader failed: Collection was modified; enumeration operation may not execute.\r\n"
     ]
    }
   ],
   "source": [
    "using System.Collections.Generic;\n",
    "using System.Threading.Tasks;\n",
    "\n",
    "List<int> sharedList = new List<int>();\n",
    "object listLock = new object(); // Dedicated lock object\n",
    "\n",
    "// Task 1: Adds items\n",
    "Task adderTask = Task.Run(() => {\n",
    "    for (int i = 0; i < 100; i++)\n",
    "    {\n",
    "        sharedList.Add(i);\n",
    "        Task.Delay(1).Wait();\n",
    "    }\n",
    "});\n",
    "\n",
    "// Task 2: Reads and sums items (while Task 1 might be adding)\n",
    "Task readerTask = Task.Run(() => {\n",
    "    long sum = 0;\n",
    "    try {\n",
    "        Task.Delay(100).Wait(); // Small delay to increase chance of conflict\n",
    "        foreach (int item in sharedList)\n",
    "        {\n",
    "            sum += item;\n",
    "            Task.Delay(1).Wait(); // Small delay\n",
    "        }\n",
    "        Console.WriteLine($\"Reader finished. Sum: {sum}\"); // Sum likely incomplete/incorrect\n",
    "    } catch (InvalidOperationException ex) {\n",
    "        Console.WriteLine($\"Reader failed: {ex.Message}\"); // Very likely outcome!\n",
    "    }\n",
    "});\n",
    "\n",
    "await Task.WhenAll(adderTask, readerTask);"
   ]
  },
  {
   "cell_type": "markdown",
   "metadata": {},
   "source": [
    "Safe Version:\n",
    " \n",
    "Wrap every piece of code that reads or modifies the shared standard collection within a lock statement using the same dedicated lock object."
   ]
  },
  {
   "cell_type": "markdown",
   "metadata": {},
   "source": [
    "**Option 1:** Copy the list inside the lock for safe iteration outside\n"
   ]
  },
  {
   "cell_type": "code",
   "execution_count": 38,
   "metadata": {
    "polyglot_notebook": {
     "kernelName": "csharp"
    },
    "vscode": {
     "languageId": "polyglot-notebook"
    }
   },
   "outputs": [
    {
     "name": "stdout",
     "output_type": "stream",
     "text": [
      "Reader finished. Sum: 28\r\n"
     ]
    }
   ],
   "source": [
    "using System.Collections.Generic;\n",
    "using System.Threading.Tasks;\n",
    "\n",
    "List<int> sharedList = new List<int>();\n",
    "object listLock = new object(); // Dedicated lock object\n",
    "\n",
    "// Task 1: Adds items\n",
    "Task adderTask = Task.Run(() => {\n",
    "    for (int i = 0; i < 100; i++)\n",
    "    {\n",
    "        lock (listLock)\n",
    "        {\n",
    "            Task.Delay(1).Wait();\n",
    "            sharedList.Add(i);\n",
    "        }\n",
    "    }\n",
    "});\n",
    "\n",
    "// Task 2: Reads and sums items (while Task 1 might be adding)\n",
    "Task readerTask = Task.Run(() => {\n",
    "    long sum = 0;\n",
    "    try {\n",
    "        Task.Delay(100).Wait(); // Small delay to increase chance of conflict\n",
    "        List<int> listSnapshot;\n",
    "        lock (listLock)\n",
    "        {\n",
    "            listSnapshot = sharedList.ToList(); // Creates a copy\n",
    "        }\n",
    "        foreach (int item in listSnapshot) { sum += item; }\n",
    "        Console.WriteLine($\"Reader finished. Sum: {sum}\"); // Sum likely incomplete/incorrect\n",
    "    } catch (InvalidOperationException ex) {\n",
    "        Console.WriteLine($\"Reader failed: {ex.Message}\"); // Very likely outcome!\n",
    "    }\n",
    "});\n",
    "\n",
    "await Task.WhenAll(adderTask, readerTask);"
   ]
  },
  {
   "cell_type": "markdown",
   "metadata": {},
   "source": [
    "**Option 2:** Iterate inside the lock\n"
   ]
  },
  {
   "cell_type": "code",
   "execution_count": null,
   "metadata": {
    "polyglot_notebook": {
     "kernelName": "csharp"
    },
    "vscode": {
     "languageId": "polyglot-notebook"
    }
   },
   "outputs": [
    {
     "name": "stdout",
     "output_type": "stream",
     "text": [
      "Reader finished. Sum: 91\r\n"
     ]
    }
   ],
   "source": [
    "using System.Collections.Generic;\n",
    "using System.Threading.Tasks;\n",
    "\n",
    "List<int> sharedList = new List<int>();\n",
    "object listLock = new object(); // Dedicated lock object\n",
    "\n",
    "// Task 1: Adds items\n",
    "Task adderTask = Task.Run(() => {\n",
    "    for (int i = 0; i < 100; i++)\n",
    "    {\n",
    "        lock (listLock)\n",
    "        {\n",
    "            Task.Delay(1).Wait();\n",
    "            sharedList.Add(i);\n",
    "        }\n",
    "    }\n",
    "});\n",
    "\n",
    "// Task 2: Reads and sums items (while Task 1 might be adding)\n",
    "Task readerTask = Task.Run(() => {\n",
    "    long sum = 0;\n",
    "    try {\n",
    "        Task.Delay(100).Wait(); // Small delay to increase chance of conflict\n",
    "        lock (listLock)\n",
    "        {\n",
    "            foreach (int item in sharedList) { sum += item; }\n",
    "        }\n",
    "        Console.WriteLine($\"Reader finished. Sum: {sum}\"); // Sum likely incomplete/incorrect\n",
    "    } catch (InvalidOperationException ex) {\n",
    "        Console.WriteLine($\"Reader failed: {ex.Message}\"); // Very likely outcome!\n",
    "    }\n",
    "});\n",
    "\n",
    "await Task.WhenAll(adderTask, readerTask);"
   ]
  },
  {
   "cell_type": "markdown",
   "metadata": {},
   "source": [
    "### Example 4 - Concurrent Collections"
   ]
  },
  {
   "cell_type": "code",
   "execution_count": 48,
   "metadata": {
    "polyglot_notebook": {
     "kernelName": "csharp"
    },
    "vscode": {
     "languageId": "polyglot-notebook"
    }
   },
   "outputs": [
    {
     "name": "stdout",
     "output_type": "stream",
     "text": [
      "Word Counts (ConcurrentDictionary):\n",
      " | apple: 3 | banana: 2 | grape: 1 | orange: 3 |"
     ]
    }
   ],
   "source": [
    "using System.Collections.Concurrent;\n",
    "using System.Threading.Tasks;\n",
    "\n",
    "// Shared dictionary to store word counts\n",
    "ConcurrentDictionary<string, int> wordCounts = new ConcurrentDictionary<string, int>();\n",
    "\n",
    "// Simulate processing data sources in parallel\n",
    "Task task1 = Task.Run(() => CountWords(new[] { \"apple\", \"banana\", \"apple\" }));\n",
    "Task task2 = Task.Run(() => CountWords(new[] { \"orange\", \"banana\", \"orange\" }));\n",
    "Task task3 = Task.Run(() => CountWords(new[] { \"apple\", \"orange\", \"grape\" }));\n",
    "\n",
    "await Task.WhenAll(task1, task2, task3);\n",
    "\n",
    "Console.WriteLine(\"Word Counts (ConcurrentDictionary):\");\n",
    "foreach (var kvp in wordCounts.OrderBy(kv => kv.Key))\n",
    "{\n",
    "    Console.Write($\" | {kvp.Key}: {kvp.Value}\");\n",
    "}\n",
    "Console.Write(\" |\");\n",
    "\n",
    "// Helper method simulating processing words from a source\n",
    "void CountWords(IEnumerable<string> words)\n",
    "{\n",
    "    foreach (string word in words)\n",
    "    {\n",
    "        // AddOrUpdate handles the logic:\n",
    "        // - If new, add it with value 1.\n",
    "        // - If exists, call the lambda to increment the current value.\n",
    "        wordCounts.AddOrUpdate(word, 1, (key, currentCount) => currentCount + 1);\n",
    "        Task.Delay(10).Wait();\n",
    "    }\n",
    "}\n"
   ]
  },
  {
   "cell_type": "markdown",
   "metadata": {},
   "source": [
    "## Example 5 Semasphores"
   ]
  },
  {
   "cell_type": "code",
   "execution_count": 62,
   "metadata": {
    "polyglot_notebook": {
     "kernelName": "csharp"
    },
    "vscode": {
     "languageId": "polyglot-notebook"
    }
   },
   "outputs": [],
   "source": [
    "// Imagine wanting to download 20 files, but only 3 downloads should run at once\n",
    "// Starting all tasks immediately might cause too many concurrent downloads\n",
    "List<Task> downloadTasks = new List<Task>();\n",
    "for (int i = 1; i <= 20; i++)\n",
    "{\n",
    "    int fileNum = i;\n",
    "    downloadTasks.Add(Task.Run(async () => { /* Download logic */ }));\n",
    "}\n",
    "// Problem: All 20 might start nearly simultaneously!\n",
    "await Task.WhenAll(downloadTasks);\n"
   ]
  },
  {
   "cell_type": "code",
   "execution_count": 65,
   "metadata": {
    "polyglot_notebook": {
     "kernelName": "csharp"
    },
    "vscode": {
     "languageId": "polyglot-notebook"
    }
   },
   "outputs": [
    {
     "name": "stdout",
     "output_type": "stream",
     "text": [
      "[1] Waiting for slot...\n",
      "[1] Entered slot. Downloading...\n",
      "[2] Waiting for slot...\n",
      "[2] Entered slot. Downloading...\n",
      "[3] Waiting for slot...\n",
      "[3] Entered slot. Downloading...\n",
      "[4] Waiting for slot...\n",
      "[5] Waiting for slot...\n",
      "[6] Waiting for slot...\n",
      "[7] Waiting for slot...\n",
      "[8] Waiting for slot...\n",
      "[9] Waiting for slot...\n",
      "[10] Waiting for slot...\n",
      "[11] Waiting for slot...\n",
      "[12] Waiting for slot...\n",
      "[13] Waiting for slot...\n",
      "[14] Waiting for slot...\n",
      "[15] Waiting for slot...\n",
      "[16] Waiting for slot...\n",
      "[17] Waiting for slot...\n",
      "[18] Waiting for slot...\n",
      "[19] Waiting for slot...\n",
      "[20] Waiting for slot...\n",
      "[3] Finished download.\n",
      "[2] Finished download.\n",
      "[2] Slot released.\n",
      "[5] Entered slot. Downloading...\n",
      "[1] Finished download.\n",
      "[1] Slot released.\n",
      "[6] Entered slot. Downloading...\n",
      "[4] Entered slot. Downloading...\n",
      "[3] Slot released.\n",
      "[6] Finished download.\n",
      "[4] Finished download.\n",
      "[5] Finished download.\n",
      "[6] Slot released.\n",
      "[7] Entered slot. Downloading...\n",
      "[8] Entered slot. Downloading...\n",
      "[5] Slot released.\n",
      "[9] Entered slot. Downloading...\n",
      "[4] Slot released.\n",
      "[8] Finished download.\n",
      "[9] Finished download.\n",
      "[9] Slot released.\n",
      "[11] Entered slot. Downloading...\n",
      "[10] Entered slot. Downloading...\n",
      "[8] Slot released.\n",
      "[7] Finished download.\n",
      "[7] Slot released.\n",
      "[12] Entered slot. Downloading...\n",
      "[11] Finished download.\n",
      "[12] Finished download.\n",
      "[10] Finished download.\n",
      "[11] Slot released.\n",
      "[15] Entered slot. Downloading...\n",
      "[12] Slot released.\n",
      "[14] Entered slot. Downloading...\n",
      "[13] Entered slot. Downloading...\n",
      "[10] Slot released.\n",
      "[13] Finished download.\n",
      "[15] Finished download.\n",
      "[14] Finished download.\n",
      "[14] Slot released.\n",
      "[16] Entered slot. Downloading...\n",
      "[15] Slot released.\n",
      "[17] Entered slot. Downloading...\n",
      "[13] Slot released.\n",
      "[18] Entered slot. Downloading...\n",
      "[18] Finished download.\n",
      "[16] Finished download.\n",
      "[17] Finished download.\n",
      "[17] Slot released.\n",
      "[19] Entered slot. Downloading...\n",
      "[16] Slot released.\n",
      "[20] Entered slot. Downloading...\n",
      "[18] Slot released.\n",
      "[20] Finished download.\n",
      "[20] Slot released.\n",
      "[19] Finished download.\n",
      "[19] Slot released.\n"
     ]
    }
   ],
   "source": [
    "using System.Threading;\n",
    "using System.Threading.Tasks;\n",
    "\n",
    "// Allow max 3 concurrent operations\n",
    "private static readonly SemaphoreSlim _throttler = new SemaphoreSlim(3, 3);\n",
    "\n",
    "async Task DownloadFileAsync(int fileNum, CancellationToken token)\n",
    "{\n",
    "    Console.WriteLine($\"[{fileNum}] Waiting for slot...\");\n",
    "    await _throttler.WaitAsync(token); // Wait for semaphore (pass token!)\n",
    "    try\n",
    "    {\n",
    "        Console.WriteLine($\"[{fileNum}] Entered slot. Downloading...\");\n",
    "        await Task.Delay(TimeSpan.FromSeconds(2), token); // Simulate download (pass token!)\n",
    "        Console.WriteLine($\"[{fileNum}] Finished download.\");\n",
    "    }\n",
    "    finally\n",
    "    {\n",
    "        _throttler.Release(); // CRITICAL: Release the semaphore slot\n",
    "        Console.WriteLine($\"[{fileNum}] Slot released.\");\n",
    "    }\n",
    "}\n",
    "\n",
    "// --- How to use it ---\n",
    "List<Task> downloadTasks = new List<Task>();\n",
    "var cts = new CancellationTokenSource();\n",
    "for (int i = 1; i <= 20; i++) { downloadTasks.Add(DownloadFileAsync(i, cts.Token)); }\n",
    "await Task.WhenAll(downloadTasks); // Only 3 run concurrently inside DownloadFileAsync"
   ]
  },
  {
   "cell_type": "markdown",
   "metadata": {},
   "source": [
    "### Example 6 - Task Cancellation"
   ]
  },
  {
   "cell_type": "code",
   "execution_count": 66,
   "metadata": {
    "polyglot_notebook": {
     "kernelName": "csharp"
    },
    "vscode": {
     "languageId": "polyglot-notebook"
    }
   },
   "outputs": [
    {
     "name": "stdout",
     "output_type": "stream",
     "text": [
      "Starting stoppable processing loop...\n",
      "Stoppable loop started.\n",
      "Processing item 1...\n",
      "Running for 3 seconds...\n",
      "Finished item 1.\n",
      "Processing item 2...\n",
      "Finished item 2.\n",
      "Processing item 3...\n",
      "Finished item 3.\n",
      "Processing item 4...\n",
      "Finished item 4.\n",
      "Processing item 5...\n",
      "Finished item 5.\n",
      "Processing item 6...\n",
      "Requesting cancellation...\n",
      "Loop cancelled via OperationCanceledException.\n",
      "Stoppable loop finished after processing 6 items.\n",
      "Loop task completed after cancellation.\n"
     ]
    }
   ],
   "source": [
    "using System.Threading;\n",
    "using System.Threading.Tasks;\n",
    "\n",
    "async Task StoppableProcessingLoop(CancellationToken token) \n",
    "{\n",
    "    int itemsProcessed = 0;\n",
    "    Console.WriteLine(\"Stoppable loop started.\");\n",
    "    try\n",
    "    {\n",
    "        while (true) // Loop indefinitely until cancelled\n",
    "        {\n",
    "            if (token.IsCancellationRequested)\n",
    "            {\n",
    "                Console.WriteLine(\"Exiting.\");\n",
    "                break; // Exit the loop cleanly\n",
    "            }\n",
    "\n",
    "            itemsProcessed++;\n",
    "            Console.WriteLine($\"Processing item {itemsProcessed}...\");\n",
    "\n",
    "            // Simulate work, passing the token to awaitable operations\n",
    "            await Task.Delay(500, token);\n",
    "\n",
    "            Console.WriteLine($\"Finished item {itemsProcessed}.\");\n",
    "        }\n",
    "    }\n",
    "    catch (OperationCanceledException)\n",
    "    {\n",
    "        // This exception is expected if Task.Delay (or another cancellable method) is cancelled\n",
    "        Console.WriteLine(\"Loop cancelled via OperationCanceledException.\");\n",
    "    }\n",
    "    finally\n",
    "    {\n",
    "        Console.WriteLine($\"Stoppable loop finished after processing {itemsProcessed} items.\");\n",
    "    }\n",
    "}\n",
    "\n",
    "// --- How to use it ---\n",
    "var cts = new CancellationTokenSource();\n",
    "\n",
    "Console.WriteLine(\"Starting stoppable processing loop...\");\n",
    "Task loopTask = StoppableProcessingLoop(cts.Token);\n",
    "\n",
    "Console.WriteLine(\"Running for 3 seconds...\");\n",
    "await Task.Delay(3000);\n",
    "\n",
    "Console.WriteLine(\"Requesting cancellation...\");\n",
    "cts.Cancel(); // Signal the loop to stop\n",
    "\n",
    "await loopTask; // Wait for the loop task to actually finish cleaning up\n",
    "Console.WriteLine(\"Loop task completed after cancellation.\");\n",
    "cts.Dispose();\n"
   ]
  },
  {
   "cell_type": "markdown",
   "metadata": {},
   "source": [
    "### Example 7 - Concurrent Tasks"
   ]
  },
  {
   "cell_type": "code",
   "execution_count": null,
   "metadata": {
    "polyglot_notebook": {
     "kernelName": "csharp"
    },
    "vscode": {
     "languageId": "polyglot-notebook"
    }
   },
   "outputs": [],
   "source": [
    "using System.Net.Http;\n",
    "using System.Threading.Tasks;\n",
    "\n",
    "// Assume httpClient is initialized\n",
    "async Task<string> FetchUrlContentAsync(string url)\n",
    "{\n",
    "    Console.WriteLine($\"Starting fetch: {url}\");\n",
    "    // Simulate network request\n",
    "    await Task.Delay(TimeSpan.FromSeconds(new Random().Next(1, 4)));\n",
    "    string content = $\"Content from {url}\";\n",
    "    Console.WriteLine($\"Finished fetch: {url}\");\n",
    "    return content;\n",
    "}\n",
    "\n",
    "// --- Using Task.WhenAll ---\n",
    "string url1 = \"https://example.com/page1\";\n",
    "string url2 = \"https://example.com/page2\";\n",
    "string url3 = \"https://example.com/page3\";\n",
    "\n",
    "Task<string> task1 = FetchUrlContentAsync(url1); // Start\n",
    "Task<string> task2 = FetchUrlContentAsync(url2); // Start\n",
    "Task<string> task3 = FetchUrlContentAsync(url3); // Start\n",
    "Console.WriteLine(\"All fetch tasks started concurrently...\");\n",
    "string[] results = await Task.WhenAll(task1, task2, task3); // Wait for ALL\n",
    "Console.WriteLine(\"All fetch tasks completed.\");\n",
    "// results[0] contains content from url1, results[1] from url2, etc.\n"
   ]
  },
  {
   "cell_type": "code",
   "execution_count": 67,
   "metadata": {
    "polyglot_notebook": {
     "kernelName": "csharp"
    },
    "vscode": {
     "languageId": "polyglot-notebook"
    }
   },
   "outputs": [
    {
     "name": "stdout",
     "output_type": "stream",
     "text": [
      "Long operation started...\n",
      "Racing operation against 3-second timeout...\n",
      "Operation timed out!\n",
      "Cancelling long operation...\n"
     ]
    }
   ],
   "source": [
    "using System.Threading;\n",
    "using System.Threading.Tasks;\n",
    "\n",
    "async Task<string> LongRunningOperation(CancellationToken token)\n",
    "{\n",
    "    Console.WriteLine(\"Long operation started...\");\n",
    "    await Task.Delay(5000, token); // Simulate 5 seconds work\n",
    "    Console.WriteLine(\"Long operation finished.\");\n",
    "    return \"Operation Result\";\n",
    "}\n",
    "\n",
    "// --- Using Task.WhenAny for Timeout ---\n",
    "var cts = new CancellationTokenSource();\n",
    "Task<string> operationTask = LongRunningOperation(cts.Token);\n",
    "Task timeoutTask = Task.Delay(TimeSpan.FromSeconds(3), cts.Token); // 3 second timeout\n",
    "\n",
    "Console.WriteLine(\"Racing operation against 3-second timeout...\");\n",
    "\n",
    "// Wait for whichever task finishes first\n",
    "Task completedTask = await Task.WhenAny(operationTask, timeoutTask);\n",
    "\n",
    "if (completedTask == operationTask)\n",
    "{\n",
    "    // Operation finished before timeout\n",
    "    Console.WriteLine(\"Operation completed successfully.\");\n",
    "    // We need to await the original task again to safely get the result or propagate exceptions\n",
    "    string result = await operationTask;\n",
    "    Console.WriteLine($\"Result: {result}\");\n",
    "}\n",
    "else\n",
    "{\n",
    "    // Timeout task finished first\n",
    "    Console.WriteLine(\"Operation timed out!\");\n",
    "    // Important: Cancel the original operation if it timed out\n",
    "    Console.WriteLine(\"Cancelling long operation...\");\n",
    "    cts.Cancel();\n",
    "}\n",
    "cts.Dispose();\n"
   ]
  },
  {
   "cell_type": "markdown",
   "metadata": {},
   "source": [
    "### Example 8 - Periodic Timer"
   ]
  },
  {
   "cell_type": "code",
   "execution_count": 69,
   "metadata": {
    "polyglot_notebook": {
     "kernelName": "csharp"
    },
    "vscode": {
     "languageId": "polyglot-notebook"
    }
   },
   "outputs": [
    {
     "name": "stdout",
     "output_type": "stream",
     "text": [
      "[13:43:25] Doing periodic work...\n",
      "[13:43:27] Doing periodic work...\n",
      "[13:43:29] Doing periodic work...\n",
      "[13:43:31] Doing periodic work...\n",
      "[13:43:33] Doing periodic work...\n",
      "Periodic work cancelled.\n",
      "Periodic work loop finished.\n"
     ]
    }
   ],
   "source": [
    "using System.Threading;\n",
    "using System.Threading.Tasks;\n",
    "\n",
    "// Assume token comes from a CancellationTokenSource (See previous slide!)\n",
    "async Task RunPeriodicWork(CancellationToken token)\n",
    "{\n",
    "    // Create timer for a 5-second interval\n",
    "    using var timer = new PeriodicTimer(TimeSpan.FromSeconds(2));\n",
    "\n",
    "    try\n",
    "    {\n",
    "        // Loop continues as long as timer ticks and cancellation isn't requested\n",
    "        while (await timer.WaitForNextTickAsync(token)) // Pass token here!\n",
    "        {\n",
    "            Console.WriteLine($\"[{DateTime.Now:HH:mm:ss}] Doing periodic work...\");\n",
    "            // Perform your async or sync work here\n",
    "            // await SomeAsyncWork(token);\n",
    "        }\n",
    "    }\n",
    "    catch (OperationCanceledException)\n",
    "    {\n",
    "        Console.WriteLine(\"Periodic work cancelled.\"); // Expected when token is cancelled\n",
    "    }\n",
    "    finally\n",
    "    {\n",
    "        Console.WriteLine(\"Periodic work loop finished.\");\n",
    "    }\n",
    "}\n",
    "\n",
    "// To start:\n",
    "var cts = new CancellationTokenSource();\n",
    "Task workTask = RunPeriodicWork(cts.Token);\n",
    "// To stop:\n",
    "Task.Delay(10000).Wait(); \n",
    "cts.Cancel();"
   ]
  },
  {
   "cell_type": "markdown",
   "metadata": {},
   "source": [
    "### Example 9 - Signaling"
   ]
  },
  {
   "cell_type": "code",
   "execution_count": 70,
   "metadata": {
    "polyglot_notebook": {
     "kernelName": "csharp"
    },
    "vscode": {
     "languageId": "polyglot-notebook"
    }
   },
   "outputs": [
    {
     "name": "stdout",
     "output_type": "stream",
     "text": [
      "Consumer: Waiting for data...\n",
      "Producer: Preparing data...\n",
      "Producer: Data ready. Setting signal...\n",
      "Consumer: Signal received! Processing data...\n",
      "Consumer: Data is 'Hello from Producer!'\n",
      "Signaling example finished.\n"
     ]
    }
   ],
   "source": [
    "using System.Threading;\n",
    "using System.Threading.Tasks;\n",
    "\n",
    "// Starts in non-signaled state (Wait will block)\n",
    "ManualResetEventSlim dataReadySignal = new ManualResetEventSlim(false);\n",
    "\n",
    "string sharedData = null;\n",
    "\n",
    "// Task 1: Waits for data, then processes it\n",
    "Task consumer = Task.Run(() => {\n",
    "    Console.WriteLine(\"Consumer: Waiting for data...\");\n",
    "    dataReadySignal.Wait(); // Blocks here until Set() is called\n",
    "    Console.WriteLine(\"Consumer: Signal received! Processing data...\");\n",
    "    Console.WriteLine($\"Consumer: Data is '{sharedData}'\");\n",
    "});\n",
    "\n",
    "// Task 2: Prepares data, then signals\n",
    "Task producer = Task.Run(async () => {\n",
    "    Console.WriteLine(\"Producer: Preparing data...\");\n",
    "    await Task.Delay(2000); // Simulate work\n",
    "    sharedData = \"Hello from Producer!\";\n",
    "    Console.WriteLine(\"Producer: Data ready. Setting signal...\");\n",
    "    dataReadySignal.Set(); // Signal waiting threads\n",
    "});\n",
    "\n",
    "await Task.WhenAll(producer, consumer);\n",
    "dataReadySignal.Dispose();\n",
    "Console.WriteLine(\"Signaling example finished.\");\n"
   ]
  },
  {
   "cell_type": "markdown",
   "metadata": {},
   "source": [
    "### Example 10 - Blocking Collections"
   ]
  },
  {
   "cell_type": "code",
   "execution_count": 50,
   "metadata": {
    "polyglot_notebook": {
     "kernelName": "csharp"
    },
    "vscode": {
     "languageId": "polyglot-notebook"
    }
   },
   "outputs": [
    {
     "name": "stdout",
     "output_type": "stream",
     "text": [
      "Producer added: Message 0\n",
      "\tConsumer processed: Message 0\n",
      "Producer added: Message 1\n",
      "Producer added: Message 2\n",
      "\tConsumer processed: Message 1\n",
      "Producer added: Message 3\n",
      "\tConsumer processed: Message 2\n",
      "Producer added: Message 4\n",
      "Producer finished adding.\n",
      "\tConsumer processed: Message 3\n",
      "\tConsumer processed: Message 4\n",
      "\tConsumer finished processing (queue completed and empty).\n"
     ]
    }
   ],
   "source": [
    "using System.Collections.Concurrent;\n",
    "using System.Threading;\n",
    "using System.Threading.Tasks;\n",
    "\n",
    "// Use default (ConcurrentQueue), optionally bounded (e.g., new BlockingCollection<string>(10))\n",
    "BlockingCollection<string> messageQueue = new BlockingCollection<string>();\n",
    "\n",
    "// Producer Task\n",
    "Task producer = Task.Run(async () => {\n",
    "    try {\n",
    "        for (int i = 0; i < 5; i++) {\n",
    "            string message = $\"Message {i}\";\n",
    "            messageQueue.Add(message); // Blocks if bounded & full\n",
    "            Console.WriteLine($\"Producer added: {message}\");\n",
    "            await Task.Delay(1000); // Simulate work\n",
    "        }\n",
    "    } finally {\n",
    "        // CRITICAL: Signal completion when done producing\n",
    "        messageQueue.CompleteAdding();\n",
    "        Console.WriteLine(\"Producer finished adding.\");\n",
    "    }\n",
    "});\n",
    "\n",
    "// Consumer Task\n",
    "Task consumer = Task.Run(() => {\n",
    "    try {\n",
    "        // Loop efficiently waits, takes items, and exits when completed+empty\n",
    "        foreach (string message in messageQueue.GetConsumingEnumerable()) // Blocks here if empty\n",
    "        {\n",
    "            Console.WriteLine($\"\\tConsumer processed: {message}\");\n",
    "            Task.Delay(2000).Wait(); // Simulate processing work\n",
    "        }\n",
    "         Console.WriteLine(\"\\tConsumer finished processing (queue completed and empty).\");\n",
    "    } catch (OperationCanceledException) {\n",
    "         Console.WriteLine(\"\\tConsumer cancelled.\");\n",
    "    } catch (Exception ex) { Console.WriteLine($\"\\tConsumer Error: {ex.Message}\"); }\n",
    "});\n",
    "\n",
    "await Task.WhenAll(producer, consumer);\n",
    "messageQueue.Dispose(); // Dispose when done"
   ]
  },
  {
   "cell_type": "markdown",
   "metadata": {},
   "source": [
    "### Example 11 - Producer / Consumer Queue"
   ]
  },
  {
   "cell_type": "code",
   "execution_count": 118,
   "metadata": {
    "polyglot_notebook": {
     "kernelName": "csharp"
    },
    "vscode": {
     "languageId": "polyglot-notebook"
    }
   },
   "outputs": [
    {
     "name": "stdout",
     "output_type": "stream",
     "text": [
      "Too\n",
      "Long!\n",
      "Task!\n",
      "Queue!\n",
      "Queue!\n"
     ]
    }
   ],
   "source": [
    "public class PCQueue : IDisposable\n",
    "{\n",
    "  BlockingCollection<Task> _taskQ = new BlockingCollection<Task>();\n",
    "  \n",
    "  public PCQueue (int workerCount)\n",
    "  {\n",
    "    // Create and start a separate Task for each consumer:\n",
    "    for (int i = 0; i < workerCount; i++)\n",
    "    Task.Factory.StartNew (Consume);\n",
    "  }\n",
    "  \n",
    "  public Task Enqueue (Action action, CancellationToken cancelToken = default (CancellationToken))\n",
    "  {\n",
    "    var task = new Task (action, cancelToken);\n",
    "    _taskQ.Add (task);\n",
    "    return task;\n",
    "  }\n",
    "  \n",
    "  public Task<TResult> Enqueue<TResult> (Func<TResult> func, \n",
    "    CancellationToken cancelToken = default (CancellationToken))\n",
    "  {\n",
    "    var task = new Task<TResult> (func, cancelToken);\n",
    "    _taskQ.Add (task);\n",
    "    return task;\n",
    "  }\n",
    "  \n",
    "  void Consume()\n",
    "  {\n",
    "    foreach (var task in _taskQ.GetConsumingEnumerable())\n",
    "    try \n",
    "    {\n",
    "      if (!task.IsCanceled) task.RunSynchronously();\n",
    "    } \n",
    "    catch (InvalidOperationException) { }  // Race condition\n",
    "  }\n",
    "  \n",
    "  public void Dispose() { _taskQ.CompleteAdding(); }\n",
    "}\n",
    "\n",
    "\n",
    "using (var pcQ = new PCQueue(1))\n",
    "{\n",
    "    Task t1 = pcQ.Enqueue (() => \n",
    "    {\n",
    "        Task.Delay(5000).Wait(); \n",
    "        Console.WriteLine (\"Too\");\n",
    "    });\n",
    "    Task t2 = pcQ.Enqueue (() => \n",
    "    {\n",
    "        Task.Delay(3000).Wait(); \n",
    "        Console.WriteLine (\"Long!\");\n",
    "    });\n",
    "    Task t3 = pcQ.Enqueue (() => \n",
    "    {\n",
    "        Task.Delay(2000).Wait(); \n",
    "        Console.WriteLine (\"Task!\");\n",
    "    });\n",
    "    Task t4 = pcQ.Enqueue (() => \n",
    "    {\n",
    "        Task.Delay(1000).Wait(); \n",
    "        Console.WriteLine (\"Queue!\");\n",
    "    });\n",
    "    Task.WaitAll (t1, t2, t3, t4); // Wait for all tasks to finish\n",
    "    Task t5 = pcQ.Enqueue (() => \n",
    "    {\n",
    "        Task.Delay(1000).Wait(); \n",
    "        Console.WriteLine (\"Queue!\");\n",
    "    });\n",
    "    await t5; // Wait for the last task to finish\n",
    "}  \n",
    "\n"
   ]
  }
 ],
 "metadata": {
  "kernelspec": {
   "display_name": ".NET (C#)",
   "language": "C#",
   "name": ".net-csharp"
  },
  "language_info": {
   "name": "python"
  },
  "polyglot_notebook": {
   "kernelInfo": {
    "defaultKernelName": "csharp",
    "items": [
     {
      "aliases": [],
      "name": "csharp"
     }
    ]
   }
  }
 },
 "nbformat": 4,
 "nbformat_minor": 2
}
